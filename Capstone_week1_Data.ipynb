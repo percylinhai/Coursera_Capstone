{
  "nbformat": 4,
  "nbformat_minor": 0,
  "metadata": {
    "colab": {
      "name": "Capstone_week1_Data.ipynb",
      "version": "0.3.2",
      "provenance": [],
      "collapsed_sections": [],
      "include_colab_link": true
    },
    "kernelspec": {
      "name": "python3",
      "display_name": "Python 3"
    }
  },
  "cells": [
    {
      "cell_type": "markdown",
      "metadata": {
        "id": "view-in-github",
        "colab_type": "text"
      },
      "source": [
        "<a href=\"https://colab.research.google.com/github/percylinhai/Coursera_Capstone/blob/master/Capstone_week1_Data.ipynb\" target=\"_parent\"><img src=\"https://colab.research.google.com/assets/colab-badge.svg\" alt=\"Open In Colab\"/></a>"
      ]
    },
    {
      "cell_type": "markdown",
      "metadata": {
        "id": "nZwEVIU1yhuQ",
        "colab_type": "text"
      },
      "source": [
        "#Data Description and Analysis Plan"
      ]
    },
    {
      "cell_type": "markdown",
      "metadata": {
        "id": "9XBvkaexzUh0",
        "colab_type": "text"
      },
      "source": [
        "We will use data from four cities: Houston, Los Angeles, Dallas, and NYC. All of them are big cities with variety, one in the north, the other three in the south. With these similarities, we hope to capture some core features that are critical to restaurant businesses, from which we can build a reliable prediction model. We will be primarily using venue category data from Foursquare API. The venue category data will be used as important features describing the neighborhoods. Besides, we will also include other features such as housing rate, foot traffic, demographics and so on."
      ]
    },
    {
      "cell_type": "markdown",
      "metadata": {
        "id": "4viu9x1D4xCq",
        "colab_type": "text"
      },
      "source": [
        "More specifically, for a total of four cities (Houston, Los Angeles, Dallas, and NYC), the data we will use include:\n",
        "1. Geographic coordinates for all neighborhoods in four cities. \n",
        "2. Venue category data from Foursquare API.\n",
        "3. I was also able to find some social-economic data for each neighborhood in [geocod.io](https://), include: household type, housing prices, family composition, demographics and income.\n",
        "\n",
        "Together, we will be able to depict a rather detailed picture about the fitness to open a restaurant in a neighborhood.\n",
        "\n",
        "Because this will be modeled as a classification problem, we will assign labels to neighborhoods of Los Angeles, Dallas, and NYC indicating whether the area is a good place to have a restaurant business. For simplicity, we will use the percentage of total venues that are restaurant as the indicator. Here, we will set the cut-off value as 30%, meaning that if a neighborhood has more than 30% of venues being restaurant, we will say it is a good place to have a restaurant business and the label \"1\" will be assigned. Otherwise, label \"0\" will be assigned.\n",
        "\n",
        "The data from the four cities will be split into training and test. Columns and rows with high missing rate will be removed. Any apparent outliers will be removed. We will adopt some most well-known models: Random Forest, Logistic Regression and Support Vector Machines to model this problem.\n",
        "\n",
        "\n",
        "\n",
        "\n",
        "\n"
      ]
    },
    {
      "cell_type": "code",
      "metadata": {
        "id": "reu_aX1Qye6p",
        "colab_type": "code",
        "colab": {}
      },
      "source": [
        ""
      ],
      "execution_count": 0,
      "outputs": []
    }
  ]
}