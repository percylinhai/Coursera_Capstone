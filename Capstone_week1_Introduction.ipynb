{
  "nbformat": 4,
  "nbformat_minor": 0,
  "metadata": {
    "colab": {
      "name": "Capstone_week1_Introduction.ipynb",
      "version": "0.3.2",
      "provenance": [],
      "collapsed_sections": [],
      "include_colab_link": true
    },
    "kernelspec": {
      "name": "python3",
      "display_name": "Python 3"
    }
  },
  "cells": [
    {
      "cell_type": "markdown",
      "metadata": {
        "id": "view-in-github",
        "colab_type": "text"
      },
      "source": [
        "<a href=\"https://colab.research.google.com/github/percylinhai/Coursera_Capstone/blob/master/Capstone_week1_Introduction.ipynb\" target=\"_parent\"><img src=\"https://colab.research.google.com/assets/colab-badge.svg\" alt=\"Open In Colab\"/></a>"
      ]
    },
    {
      "cell_type": "markdown",
      "metadata": {
        "id": "92vnf8XGbNB5",
        "colab_type": "text"
      },
      "source": [
        "#Data-driven recommendations on restaurant location pick"
      ]
    },
    {
      "cell_type": "markdown",
      "metadata": {
        "id": "RNP4FwoPbcuv",
        "colab_type": "text"
      },
      "source": [
        "##Introduction and Background"
      ]
    },
    {
      "cell_type": "markdown",
      "metadata": {
        "id": "hdeeyfJbbhxA",
        "colab_type": "text"
      },
      "source": [
        "When it comes to brick-and-mortal businesses, what always come on top of business owners is location. In this project, we will be specifically focusing on restaurant businesses in the city of Houston, where a wide variety of foods and cuisines can thrive.\n",
        "\n",
        "An ideal location for a restaurant should be a great combination of reasonable cost (land/rent/utilities/personnel etc.), abundant customer traffic, nice neighborhood and relatively low competition."
      ]
    },
    {
      "cell_type": "markdown",
      "metadata": {
        "id": "GxoRRd9CwK1w",
        "colab_type": "text"
      },
      "source": [
        "However, in reality, the decisions on location are usually not done well-informed, with the limit of time and data. Therefore, it is valuable to provide a data-driven recommdation for location pick to help business owners make a evidence-based decision."
      ]
    },
    {
      "cell_type": "markdown",
      "metadata": {
        "id": "5dS_6VjBinJ6",
        "colab_type": "text"
      },
      "source": [
        "It's going to be a primarily supervised learning project using classification methods. Considering that we need a decent size for training, we will use neighborhoods data from other cities to train the model (including cross validation to determine the best model) and finally apply the model on neighborhoods data from Houston."
      ]
    },
    {
      "cell_type": "code",
      "metadata": {
        "id": "rg6XBfDJaCVd",
        "colab_type": "code",
        "colab": {}
      },
      "source": [
        ""
      ],
      "execution_count": 0,
      "outputs": []
    }
  ]
}